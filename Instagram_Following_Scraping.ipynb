{
 "cells": [
  {
   "cell_type": "markdown",
   "id": "8bc24cf4",
   "metadata": {},
   "source": [
    "<div style=\"background-color: #22c5e7; color: white; padding: 8px;text-align: center;\">\n",
    "        <h2 > INSTAGRAM SCRAPING  </h2>\n",
    "    <h2> M.Usman Akram </h2>\n",
    "    \n",
    "</div>"
   ]
  },
  {
   "cell_type": "markdown",
   "id": "8007d85d",
   "metadata": {},
   "source": [
    "<div style=\"background-color: RED; color: BLACK; padding: 8px;text-align: center;\">\n",
    "    <h3> Required Libraries </h3>\n",
    "</div>"
   ]
  },
  {
   "cell_type": "code",
   "execution_count": 1,
   "id": "a72eb61d",
   "metadata": {},
   "outputs": [],
   "source": [
    "from selenium import webdriver\n",
    "from selenium.webdriver.chrome.service import Service as ChromeService\n",
    "from webdriver_manager.chrome import ChromeDriverManager\n",
    "from selenium.webdriver.common.by import By\n",
    "from selenium.webdriver.common.keys import Keys\n",
    "from selenium.webdriver.common.action_chains import ActionChains\n",
    "from selenium.webdriver.support.wait import WebDriverWait\n",
    "from selenium.webdriver.support import expected_conditions as EC\n",
    "from selenium.common.exceptions import NoSuchElementException\n",
    "from selenium.webdriver.common.action_chains import ActionChains\n",
    "import time\n",
    "import pandas as pd"
   ]
  },
  {
   "cell_type": "code",
   "execution_count": 2,
   "id": "25d74d2c",
   "metadata": {},
   "outputs": [],
   "source": [
    "options = webdriver.ChromeOptions()\n",
    "#options.add_argument(\"--headless\")\n",
    "options.add_argument('--no-sandbox')\n",
    "options.add_argument(\"--log-level=3\")\n",
    "mobile_emulation = {\n",
    "        \"userAgent\": \"Mozilla/5.0 (Linux; Android 4.2.1; en-us; Nexus 5 Build/JOP40D) AppleWebKit/535.19 (KHTML, like Gecko) Chrome/90.0.1025.166 Mobile Safari/535.19\"}\n",
    "options.add_experimental_option(\"mobileEmulation\", mobile_emulation)"
   ]
  },
  {
   "cell_type": "code",
   "execution_count": 3,
   "id": "0fe67795",
   "metadata": {},
   "outputs": [],
   "source": [
    "driver = webdriver.Chrome(service=ChromeService(ChromeDriverManager().install()),options=options)\n",
    "driver.get('https://www.instagram.com/accounts/login/')\n",
    "time.sleep(5)"
   ]
  },
  {
   "cell_type": "code",
   "execution_count": 4,
   "id": "39b820f2",
   "metadata": {},
   "outputs": [],
   "source": [
    "user_input=driver.find_element(By.NAME,'username')\n",
    "pass_input=driver.find_element(By.NAME,'password')\n",
    "user_input.send_keys('Enter your User Name')\n",
    "pass_input.send_keys('Enter Your Password')\n",
    "\n",
    "login_button=driver.find_element(By.XPATH,'//*[@id=\"loginForm\"]/div[1]/div[6]/button/div')\n",
    "login_button.click()\n",
    "\n",
    "time.sleep(10)"
   ]
  },
  {
   "cell_type": "code",
   "execution_count": 5,
   "id": "fada5722",
   "metadata": {},
   "outputs": [
    {
     "name": "stdout",
     "output_type": "stream",
     "text": [
      "Scraping Done For haris_mayo1: \n",
      "All followers loaded for account haris_mayo1.\n"
     ]
    }
   ],
   "source": [
    "account = ['haris_mayo1']\n",
    "TIMEOUT = 10\n",
    "WAIT_TIME = 2\n",
    "\n",
    "\n",
    "for acc in account:\n",
    "    try:\n",
    "        driver.get(f'https://www.instagram.com/{acc}/')\n",
    "\n",
    "        followers_link = WebDriverWait(driver, TIMEOUT).until(EC.presence_of_element_located((By.XPATH, \"//a[contains(@href, '/following')]\")))\n",
    "        driver.execute_script(\"arguments[0].click();\", followers_link)\n",
    "\n",
    "        prev_height = driver.execute_script(\"return document.body.scrollHeight\")\n",
    "        followers_loaded = False\n",
    "        timer = 0\n",
    "\n",
    "        while not followers_loaded and timer < TIMEOUT:\n",
    "            driver.execute_script(\"window.scrollTo(0, document.body.scrollHeight);\")\n",
    "            time.sleep(WAIT_TIME)\n",
    "            new_height = driver.execute_script(\"return document.body.scrollHeight\")\n",
    "            if new_height == prev_height:\n",
    "                timer += WAIT_TIME\n",
    "                if timer >= TIMEOUT:\n",
    "                    raise TimeoutError(f\"\\nAll followers loaded for account {acc}.\")\n",
    "            else:\n",
    "                prev_height = new_height\n",
    "                timer = 0\n",
    "\n",
    "        print(f\"Timeout: Unable to load all followers for account  {acc}\")\n",
    "\n",
    "    except Exception as e:\n",
    "        print(f\"Scraping Done For {acc}: {str(e)}\")\n",
    "\n"
   ]
  },
  {
   "cell_type": "code",
   "execution_count": 6,
   "id": "0cc9cabd",
   "metadata": {},
   "outputs": [],
   "source": [
    "time.sleep(5)\n",
    "links=driver.find_elements(By.CLASS_NAME,'x9f619.xjbqb8w.x78zum5.x168nmei.x13lgxp2.x5pf9jr.xo71vjh.x1uhb9sk.x1plvlek.xryxfnj.x1c4vz4f.x2lah0s.x1q0g3np.xqjyukv.x1qjc9v5.x1oa3qoh.x1nhvcw1')"
   ]
  },
  {
   "cell_type": "code",
   "execution_count": 7,
   "id": "df2054ad",
   "metadata": {},
   "outputs": [],
   "source": [
    "user_links=[]\n",
    "get_links=driver.find_elements(By.CLASS_NAME, \"x1i10hfl.xjbqb8w.x6umtig.x1b1mbwd.xaqea5y.xav7gou.x9f619.x1ypdohk.xt0psk2.xe8uvvx.xdj266r.x11i5rnm.xat24cr.x1mh8g0r.xexx8yu.x4uap5.x18d9i69.xkhd6sd.x16tdsg8.x1hl2dhg.xggy1nq.x1a2a7pz.notranslate._a6hd\")\n",
    "for j in get_links:\n",
    "    user_links.append(j.get_attribute(\"href\"))"
   ]
  },
  {
   "cell_type": "code",
   "execution_count": 8,
   "id": "6b320b92",
   "metadata": {},
   "outputs": [
    {
     "name": "stdout",
     "output_type": "stream",
     "text": [
      "                                            User_Links\n",
      "0    https://www.instagram.com/appointment_with_072...\n",
      "1            https://www.instagram.com/hananislam1524/\n",
      "2          https://www.instagram.com/zeshanahmedsipra/\n",
      "3        https://www.instagram.com/theoffroadtraveler/\n",
      "4              https://www.instagram.com/atiqrana9922/\n",
      "..                                                 ...\n",
      "301  https://www.instagram.com/bhattimudassirjamsha...\n",
      "302                 https://www.instagram.com/cpunerd/\n",
      "303             https://www.instagram.com/sureelasuar/\n",
      "304             https://www.instagram.com/sehar17.ali/\n",
      "305              https://www.instagram.com/hsidbdiguv/\n",
      "\n",
      "[306 rows x 1 columns]\n"
     ]
    }
   ],
   "source": [
    "ah=pd.DataFrame({'User_Links':user_links})\n",
    "print(ah)"
   ]
  },
  {
   "cell_type": "code",
   "execution_count": 9,
   "id": "dd8aec54",
   "metadata": {},
   "outputs": [],
   "source": [
    "links=[]\n",
    "for i in ah.User_Links:\n",
    "    links.append(i)\n",
    "    \n"
   ]
  },
  {
   "cell_type": "code",
   "execution_count": null,
   "id": "79881afd",
   "metadata": {},
   "outputs": [],
   "source": [
    "import re\n",
    "user_name=[]\n",
    "bio_user=[]\n",
    "email_user=[]\n",
    "phone_user=[]\n",
    "user_link=[]\n",
    "for i in links[1::]:\n",
    "    driver.get(i)\n",
    "    WebDriverWait(driver, TIMEOUT).until(\n",
    "        EC.presence_of_element_located((\n",
    "            By.XPATH, \"/html/body/div[2]/div/div/div[2]/div/div/div/div[1]/div[1]/div[2]/div[2]/section/main/div/header/section/div[1]/a/h2\"))).text\n",
    "\n",
    "    time.sleep(2)\n",
    "    pattern_1 = r'\\b[A-Za-z0-9._%+-]+@gmail.com\\b'\n",
    "    pattern_2 = r'(\\+\\d{1,2}\\s?)?\\(?\\d{3}\\)?[-.\\s]?\\d{3}[-.\\s]?\\d{4}'\n",
    "    user=driver.find_element(By.XPATH,'/html/body/div[2]/div/div/div[2]/div/div/div/div[1]/div[1]/div[2]/div[2]/section/main/div/header/section/div[1]/a/h2').text\n",
    "    bio=driver.find_element(By.CLASS_NAME,'_aa_c').text\n",
    "    emails = re.findall(pattern_1, bio)\n",
    "    phone=re.findall(pattern_2,bio)\n",
    "    user_link.append(i)\n",
    "    user_name.append(user)\n",
    "    bio_user.append(bio)\n",
    "    email_user.append(emails)\n",
    "    phone_user.append(phone)\n",
    "    print(user,bio,emails,phone,'\\n Keep Wait Data Collecting')\n",
    "\n",
    "\n"
   ]
  },
  {
   "cell_type": "code",
   "execution_count": null,
   "id": "f6051f93",
   "metadata": {},
   "outputs": [],
   "source": [
    "bio_user=[s.replace(\"\\n\", \" \") for s in bio_user]"
   ]
  },
  {
   "cell_type": "code",
   "execution_count": null,
   "id": "4b25294b",
   "metadata": {},
   "outputs": [],
   "source": [
    "df=pd.DataFrame({\n",
    "    'User_Name':user_name,'User_Link':user_link,'User_Bio':bio_user,'User_Email':email_user,'User_Phone':phone_user\n",
    "})"
   ]
  },
  {
   "cell_type": "code",
   "execution_count": null,
   "id": "2a7a54a6",
   "metadata": {},
   "outputs": [],
   "source": [
    "df"
   ]
  },
  {
   "cell_type": "code",
   "execution_count": null,
   "id": "91430e9c",
   "metadata": {},
   "outputs": [],
   "source": [
    "df.to_csv('Instagram_Following.csv')"
   ]
  },
  {
   "cell_type": "markdown",
   "id": "68dcfdca",
   "metadata": {},
   "source": [
    "<!DOCTYPE html>\n",
    "<html>\n",
    "<head>\n",
    "</head>\n",
    "<body>\n",
    "<div style=\"background-color: #32a8a6; color: black; padding: 8px;text-align: center;\">\n",
    "    <h1>My Social Profiles</h1>\n",
    "    Note: To Follow And Any Query Feel Free To Contact\n",
    "       \n",
    "- <a href=\"https://www.linkedin.com/in/m-usman-akram-b29685251/\">My LinkedIn Profile</a>\n",
    "        \n",
    "- <a href=\"https://github.com/engrusman00109\">My GitHub Account</a>\n",
    "\n",
    "- <a href=\"https://www.facebook.com/profile.php?id=100055510195015\">My FaceBook Account</a>\n",
    "    \n",
    "- <a href=\"musman00109@gmail.com\">Click here to send an email</a>\n",
    "- <a href=\"@EngrUsman00109\">My Twiter Account </a>\n",
    "    \n",
    "</div>\n",
    "      \n",
    "</body>\n",
    "</html>\n"
   ]
  },
  {
   "cell_type": "code",
   "execution_count": null,
   "id": "288e56bd",
   "metadata": {},
   "outputs": [],
   "source": []
  }
 ],
 "metadata": {
  "kernelspec": {
   "display_name": "Python 3 (ipykernel)",
   "language": "python",
   "name": "python3"
  },
  "language_info": {
   "codemirror_mode": {
    "name": "ipython",
    "version": 3
   },
   "file_extension": ".py",
   "mimetype": "text/x-python",
   "name": "python",
   "nbconvert_exporter": "python",
   "pygments_lexer": "ipython3",
   "version": "3.11.4"
  }
 },
 "nbformat": 4,
 "nbformat_minor": 5
}
